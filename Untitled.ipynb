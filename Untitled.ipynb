{
 "cells": [
  {
   "cell_type": "code",
   "execution_count": 1,
   "id": "094668d8-532e-4f29-b31f-307669a2f543",
   "metadata": {},
   "outputs": [],
   "source": [
    "import pandas as pd\n",
    "import matplotlib.pyplot as plt\n",
    "import seaborn as sns\n",
    "import numpy as np\n",
    "import json"
   ]
  },
  {
   "cell_type": "code",
   "execution_count": 2,
   "id": "229f24c7-40f4-433e-8612-f6a10f7f808f",
   "metadata": {},
   "outputs": [
    {
     "data": {
      "text/html": [
       "<div>\n",
       "<style scoped>\n",
       "    .dataframe tbody tr th:only-of-type {\n",
       "        vertical-align: middle;\n",
       "    }\n",
       "\n",
       "    .dataframe tbody tr th {\n",
       "        vertical-align: top;\n",
       "    }\n",
       "\n",
       "    .dataframe thead th {\n",
       "        text-align: right;\n",
       "    }\n",
       "</style>\n",
       "<table border=\"1\" class=\"dataframe\">\n",
       "  <thead>\n",
       "    <tr style=\"text-align: right;\">\n",
       "      <th></th>\n",
       "      <th>title</th>\n",
       "      <th>author</th>\n",
       "      <th>rating</th>\n",
       "      <th>ISBN</th>\n",
       "      <th>genres</th>\n",
       "      <th>pageCount</th>\n",
       "      <th>url</th>\n",
       "      <th>quotes</th>\n",
       "    </tr>\n",
       "  </thead>\n",
       "  <tbody>\n",
       "    <tr>\n",
       "      <th>0</th>\n",
       "      <td>Pretty Little Liars</td>\n",
       "      <td>Sara Shepard</td>\n",
       "      <td>3.86</td>\n",
       "      <td>9.780061e+12</td>\n",
       "      <td>[Young Adult, Mystery, Contemporary, Fiction, ...</td>\n",
       "      <td>286</td>\n",
       "      <td>https://www.goodreads.com/book/show/162085.Pre...</td>\n",
       "      <td>[{'text': '“I'm still here, bitches. And I kno...</td>\n",
       "    </tr>\n",
       "    <tr>\n",
       "      <th>1</th>\n",
       "      <td>Ringworld</td>\n",
       "      <td>Larry Niven</td>\n",
       "      <td>3.95</td>\n",
       "      <td>9.780575e+12</td>\n",
       "      <td>[Science Fiction, Fiction, Science Fiction Fan...</td>\n",
       "      <td>288</td>\n",
       "      <td>https://www.goodreads.com/book/show/61179.Ring...</td>\n",
       "      <td>[{'text': '“The gods do not protect fools. Foo...</td>\n",
       "    </tr>\n",
       "    <tr>\n",
       "      <th>2</th>\n",
       "      <td>Lover Enshrined</td>\n",
       "      <td>J.R. Ward</td>\n",
       "      <td>4.11</td>\n",
       "      <td>9.780451e+12</td>\n",
       "      <td>[Romance, Paranormal, Paranormal Romance, Vamp...</td>\n",
       "      <td>560</td>\n",
       "      <td>https://www.goodreads.com/book/show/1240662.Lo...</td>\n",
       "      <td>[{'text': '“After a moment, Wrath turned to Jo...</td>\n",
       "    </tr>\n",
       "    <tr>\n",
       "      <th>3</th>\n",
       "      <td>Blood Red Road</td>\n",
       "      <td>Moira Young</td>\n",
       "      <td>3.91</td>\n",
       "      <td>9.781442e+12</td>\n",
       "      <td>[Young Adult, Dystopia, Fantasy, Romance, Scie...</td>\n",
       "      <td>459</td>\n",
       "      <td>https://www.goodreads.com/book/show/9917938-bl...</td>\n",
       "      <td>[{'text': '“Yer in my blood, Saba, he says. Ye...</td>\n",
       "    </tr>\n",
       "    <tr>\n",
       "      <th>4</th>\n",
       "      <td>Eragon, Eldest &amp; Brisingr</td>\n",
       "      <td>Christopher Paolini</td>\n",
       "      <td>4.24</td>\n",
       "      <td>9.780376e+12</td>\n",
       "      <td>[Fantasy, Young Adult, Fiction, Dragons, Magic...</td>\n",
       "      <td>1952</td>\n",
       "      <td>https://www.goodreads.com/book/show/2479827.Er...</td>\n",
       "      <td>[{'text': '“Ah, pay no heed if your enemies la...</td>\n",
       "    </tr>\n",
       "  </tbody>\n",
       "</table>\n",
       "</div>"
      ],
      "text/plain": [
       "                       title               author  rating          ISBN  \\\n",
       "0        Pretty Little Liars         Sara Shepard    3.86  9.780061e+12   \n",
       "1                  Ringworld          Larry Niven    3.95  9.780575e+12   \n",
       "2            Lover Enshrined            J.R. Ward    4.11  9.780451e+12   \n",
       "3             Blood Red Road          Moira Young    3.91  9.781442e+12   \n",
       "4  Eragon, Eldest & Brisingr  Christopher Paolini    4.24  9.780376e+12   \n",
       "\n",
       "                                              genres pageCount  \\\n",
       "0  [Young Adult, Mystery, Contemporary, Fiction, ...       286   \n",
       "1  [Science Fiction, Fiction, Science Fiction Fan...       288   \n",
       "2  [Romance, Paranormal, Paranormal Romance, Vamp...       560   \n",
       "3  [Young Adult, Dystopia, Fantasy, Romance, Scie...       459   \n",
       "4  [Fantasy, Young Adult, Fiction, Dragons, Magic...      1952   \n",
       "\n",
       "                                                 url  \\\n",
       "0  https://www.goodreads.com/book/show/162085.Pre...   \n",
       "1  https://www.goodreads.com/book/show/61179.Ring...   \n",
       "2  https://www.goodreads.com/book/show/1240662.Lo...   \n",
       "3  https://www.goodreads.com/book/show/9917938-bl...   \n",
       "4  https://www.goodreads.com/book/show/2479827.Er...   \n",
       "\n",
       "                                              quotes  \n",
       "0  [{'text': '“I'm still here, bitches. And I kno...  \n",
       "1  [{'text': '“The gods do not protect fools. Foo...  \n",
       "2  [{'text': '“After a moment, Wrath turned to Jo...  \n",
       "3  [{'text': '“Yer in my blood, Saba, he says. Ye...  \n",
       "4  [{'text': '“Ah, pay no heed if your enemies la...  "
      ]
     },
     "execution_count": 2,
     "metadata": {},
     "output_type": "execute_result"
    }
   ],
   "source": [
    "df = pd.read_json('./processed/goodreads.json')\n",
    "df.head()"
   ]
  },
  {
   "cell_type": "code",
   "execution_count": 3,
   "id": "7d0d24db-b3c9-4024-8c5b-1dc3d2e2fcf2",
   "metadata": {},
   "outputs": [
    {
     "data": {
      "text/plain": [
       "<AxesSubplot:xlabel='rating', ylabel='Count'>"
      ]
     },
     "execution_count": 3,
     "metadata": {},
     "output_type": "execute_result"
    },
    {
     "data": {
      "image/png": "[encoded data removed]",
      "text/plain": [
       "<Figure size 640x480 with 1 Axes>"
      ]
     },
     "metadata": {},
     "output_type": "display_data"
    }
   ],
   "source": [
    "sns.histplot(df, x=\"rating\", bins=100)"
   ]
  },
  {
   "cell_type": "code",
   "execution_count": 4,
   "id": "d174c672-4fb2-428d-8881-039e1e015b3d",
   "metadata": {},
   "outputs": [
    {
     "data": {
      "text/html": [
       "<div>\n",
       "<style scoped>\n",
       "    .dataframe tbody tr th:only-of-type {\n",
       "        vertical-align: middle;\n",
       "    }\n",
       "\n",
       "    .dataframe tbody tr th {\n",
       "        vertical-align: top;\n",
       "    }\n",
       "\n",
       "    .dataframe thead th {\n",
       "        text-align: right;\n",
       "    }\n",
       "</style>\n",
       "<table border=\"1\" class=\"dataframe\">\n",
       "  <thead>\n",
       "    <tr style=\"text-align: right;\">\n",
       "      <th></th>\n",
       "      <th>nBooks</th>\n",
       "    </tr>\n",
       "    <tr>\n",
       "      <th>author</th>\n",
       "      <th></th>\n",
       "    </tr>\n",
       "  </thead>\n",
       "  <tbody>\n",
       "    <tr>\n",
       "      <th>Stephen King</th>\n",
       "      <td>63</td>\n",
       "    </tr>\n",
       "    <tr>\n",
       "      <th>Terry Pratchett</th>\n",
       "      <td>40</td>\n",
       "    </tr>\n",
       "    <tr>\n",
       "      <th>William Shakespeare</th>\n",
       "      <td>36</td>\n",
       "    </tr>\n",
       "    <tr>\n",
       "      <th>James Patterson</th>\n",
       "      <td>36</td>\n",
       "    </tr>\n",
       "    <tr>\n",
       "      <th>Rick Riordan</th>\n",
       "      <td>34</td>\n",
       "    </tr>\n",
       "    <tr>\n",
       "      <th>Erin Hunter</th>\n",
       "      <td>32</td>\n",
       "    </tr>\n",
       "    <tr>\n",
       "      <th>Jennifer L. Armentrout</th>\n",
       "      <td>29</td>\n",
       "    </tr>\n",
       "    <tr>\n",
       "      <th>Neil Gaiman</th>\n",
       "      <td>28</td>\n",
       "    </tr>\n",
       "    <tr>\n",
       "      <th>Cassandra Clare</th>\n",
       "      <td>27</td>\n",
       "    </tr>\n",
       "    <tr>\n",
       "      <th>Laurell K. Hamilton</th>\n",
       "      <td>27</td>\n",
       "    </tr>\n",
       "  </tbody>\n",
       "</table>\n",
       "</div>"
      ],
      "text/plain": [
       "                        nBooks\n",
       "author                        \n",
       "Stephen King                63\n",
       "Terry Pratchett             40\n",
       "William Shakespeare         36\n",
       "James Patterson             36\n",
       "Rick Riordan                34\n",
       "Erin Hunter                 32\n",
       "Jennifer L. Armentrout      29\n",
       "Neil Gaiman                 28\n",
       "Cassandra Clare             27\n",
       "Laurell K. Hamilton         27"
      ]
     },
     "execution_count": 4,
     "metadata": {},
     "output_type": "execute_result"
    }
   ],
   "source": [
    "author_df = df.groupby(['author']) \\\n",
    "                .count() \\\n",
    "                .drop(['rating', 'ISBN', 'genres', 'pageCount', 'url', 'quotes'], axis=1) \\\n",
    "                .rename(columns={'title': 'nBooks'}) \\\n",
    "                .sort_values('nBooks', ascending=False)\n",
    "author_df.head(10)"
   ]
  },
  {
   "cell_type": "code",
   "execution_count": 5,
   "id": "6cd339c8-f5e0-456e-8acb-56bca8085639",
   "metadata": {},
   "outputs": [
    {
     "data": {
      "text/html": [
       "<div>\n",
       "<style scoped>\n",
       "    .dataframe tbody tr th:only-of-type {\n",
       "        vertical-align: middle;\n",
       "    }\n",
       "\n",
       "    .dataframe tbody tr th {\n",
       "        vertical-align: top;\n",
       "    }\n",
       "\n",
       "    .dataframe thead th {\n",
       "        text-align: right;\n",
       "    }\n",
       "</style>\n",
       "<table border=\"1\" class=\"dataframe\">\n",
       "  <thead>\n",
       "    <tr style=\"text-align: right;\">\n",
       "      <th></th>\n",
       "      <th>nBooks</th>\n",
       "    </tr>\n",
       "  </thead>\n",
       "  <tbody>\n",
       "    <tr>\n",
       "      <th>count</th>\n",
       "      <td>4028.000000</td>\n",
       "    </tr>\n",
       "    <tr>\n",
       "      <th>mean</th>\n",
       "      <td>2.273585</td>\n",
       "    </tr>\n",
       "    <tr>\n",
       "      <th>std</th>\n",
       "      <td>3.217800</td>\n",
       "    </tr>\n",
       "    <tr>\n",
       "      <th>min</th>\n",
       "      <td>1.000000</td>\n",
       "    </tr>\n",
       "    <tr>\n",
       "      <th>25%</th>\n",
       "      <td>1.000000</td>\n",
       "    </tr>\n",
       "    <tr>\n",
       "      <th>50%</th>\n",
       "      <td>1.000000</td>\n",
       "    </tr>\n",
       "    <tr>\n",
       "      <th>75%</th>\n",
       "      <td>2.000000</td>\n",
       "    </tr>\n",
       "    <tr>\n",
       "      <th>max</th>\n",
       "      <td>63.000000</td>\n",
       "    </tr>\n",
       "  </tbody>\n",
       "</table>\n",
       "</div>"
      ],
      "text/plain": [
       "            nBooks\n",
       "count  4028.000000\n",
       "mean      2.273585\n",
       "std       3.217800\n",
       "min       1.000000\n",
       "25%       1.000000\n",
       "50%       1.000000\n",
       "75%       2.000000\n",
       "max      63.000000"
      ]
     },
     "execution_count": 5,
     "metadata": {},
     "output_type": "execute_result"
    }
   ],
   "source": [
    "author_df.describe()"
   ]
  },
  {
   "cell_type": "code",
   "execution_count": 6,
   "id": "16c43c20-832f-43a6-b33b-d74d318921aa",
   "metadata": {},
   "outputs": [
    {
     "data": {
      "text/plain": [
       "<AxesSubplot:>"
      ]
     },
     "execution_count": 6,
     "metadata": {},
     "output_type": "execute_result"
    },
    {
     "data": {
      "image/png": "[encoded data removed]",
      "text/plain": [
       "<Figure size 640x480 with 1 Axes>"
      ]
     },
     "metadata": {},
     "output_type": "display_data"
    }
   ],
   "source": [
    "sns.boxplot(author_df, showfliers=False)\n",
    "#sns.boxplot(author_df)"
   ]
  },
  {
   "cell_type": "code",
   "execution_count": 7,
   "id": "fbed4594-ed5b-4e9a-8d23-fdd583e09bc9",
   "metadata": {},
   "outputs": [
    {
     "data": {
      "text/html": [
       "<div>\n",
       "<style scoped>\n",
       "    .dataframe tbody tr th:only-of-type {\n",
       "        vertical-align: middle;\n",
       "    }\n",
       "\n",
       "    .dataframe tbody tr th {\n",
       "        vertical-align: top;\n",
       "    }\n",
       "\n",
       "    .dataframe thead th {\n",
       "        text-align: right;\n",
       "    }\n",
       "</style>\n",
       "<table border=\"1\" class=\"dataframe\">\n",
       "  <thead>\n",
       "    <tr style=\"text-align: right;\">\n",
       "      <th></th>\n",
       "      <th>count</th>\n",
       "    </tr>\n",
       "  </thead>\n",
       "  <tbody>\n",
       "    <tr>\n",
       "      <th>Fiction</th>\n",
       "      <td>6866</td>\n",
       "    </tr>\n",
       "    <tr>\n",
       "      <th>Fantasy</th>\n",
       "      <td>3646</td>\n",
       "    </tr>\n",
       "    <tr>\n",
       "      <th>Romance</th>\n",
       "      <td>3007</td>\n",
       "    </tr>\n",
       "    <tr>\n",
       "      <th>Young Adult</th>\n",
       "      <td>2956</td>\n",
       "    </tr>\n",
       "    <tr>\n",
       "      <th>Classics</th>\n",
       "      <td>2061</td>\n",
       "    </tr>\n",
       "  </tbody>\n",
       "</table>\n",
       "</div>"
      ],
      "text/plain": [
       "             count\n",
       "Fiction       6866\n",
       "Fantasy       3646\n",
       "Romance       3007\n",
       "Young Adult   2956\n",
       "Classics      2061"
      ]
     },
     "execution_count": 7,
     "metadata": {},
     "output_type": "execute_result"
    }
   ],
   "source": [
    "genre_df = pd.DataFrame(pd.Series(genre for genres_list in df['genres'] for genre in genres_list).value_counts()).rename(columns={0: 'count'})\n",
    "genre_df.head()"
   ]
  },
  {
   "cell_type": "code",
   "execution_count": 8,
   "id": "e3fcff37-6743-4b31-a3f5-5ba050b134c1",
   "metadata": {},
   "outputs": [
    {
     "data": {
      "text/html": [
       "<div>\n",
       "<style scoped>\n",
       "    .dataframe tbody tr th:only-of-type {\n",
       "        vertical-align: middle;\n",
       "    }\n",
       "\n",
       "    .dataframe tbody tr th {\n",
       "        vertical-align: top;\n",
       "    }\n",
       "\n",
       "    .dataframe thead th {\n",
       "        text-align: right;\n",
       "    }\n",
       "</style>\n",
       "<table border=\"1\" class=\"dataframe\">\n",
       "  <thead>\n",
       "    <tr style=\"text-align: right;\">\n",
       "      <th></th>\n",
       "      <th>count</th>\n",
       "    </tr>\n",
       "  </thead>\n",
       "  <tbody>\n",
       "    <tr>\n",
       "      <th>count</th>\n",
       "      <td>544.000000</td>\n",
       "    </tr>\n",
       "    <tr>\n",
       "      <th>mean</th>\n",
       "      <td>116.408088</td>\n",
       "    </tr>\n",
       "    <tr>\n",
       "      <th>std</th>\n",
       "      <td>437.004953</td>\n",
       "    </tr>\n",
       "    <tr>\n",
       "      <th>min</th>\n",
       "      <td>1.000000</td>\n",
       "    </tr>\n",
       "    <tr>\n",
       "      <th>25%</th>\n",
       "      <td>2.000000</td>\n",
       "    </tr>\n",
       "    <tr>\n",
       "      <th>50%</th>\n",
       "      <td>10.000000</td>\n",
       "    </tr>\n",
       "    <tr>\n",
       "      <th>75%</th>\n",
       "      <td>57.000000</td>\n",
       "    </tr>\n",
       "    <tr>\n",
       "      <th>max</th>\n",
       "      <td>6866.000000</td>\n",
       "    </tr>\n",
       "  </tbody>\n",
       "</table>\n",
       "</div>"
      ],
      "text/plain": [
       "             count\n",
       "count   544.000000\n",
       "mean    116.408088\n",
       "std     437.004953\n",
       "min       1.000000\n",
       "25%       2.000000\n",
       "50%      10.000000\n",
       "75%      57.000000\n",
       "max    6866.000000"
      ]
     },
     "execution_count": 8,
     "metadata": {},
     "output_type": "execute_result"
    }
   ],
   "source": [
    "genre_df.describe()"
   ]
  },
  {
   "cell_type": "code",
   "execution_count": 9,
   "id": "2bb51ef7-7170-4507-8708-6f3212033ae4",
   "metadata": {},
   "outputs": [
    {
     "data": {
      "text/plain": [
       "<AxesSubplot:xlabel='count', ylabel='Count'>"
      ]
     },
     "execution_count": 9,
     "metadata": {},
     "output_type": "execute_result"
    },
    {
     "data": {
      "image/png": "[encoded data removed]",
      "text/plain": [
       "<Figure size 640x480 with 1 Axes>"
      ]
     },
     "metadata": {},
     "output_type": "display_data"
    }
   ],
   "source": [
    "sns.histplot(genre_df, x=\"count\")"
   ]
  },
  {
   "cell_type": "code",
   "execution_count": 13,
   "id": "a23adddb-6376-4e78-b0e6-3ecb32ca72dd",
   "metadata": {},
   "outputs": [
    {
     "data": {
      "text/html": [
       "<div>\n",
       "<style scoped>\n",
       "    .dataframe tbody tr th:only-of-type {\n",
       "        vertical-align: middle;\n",
       "    }\n",
       "\n",
       "    .dataframe tbody tr th {\n",
       "        vertical-align: top;\n",
       "    }\n",
       "\n",
       "    .dataframe thead th {\n",
       "        text-align: right;\n",
       "    }\n",
       "</style>\n",
       "<table border=\"1\" class=\"dataframe\">\n",
       "  <thead>\n",
       "    <tr style=\"text-align: right;\">\n",
       "      <th></th>\n",
       "      <th>text</th>\n",
       "      <th>likes</th>\n",
       "      <th>tags</th>\n",
       "    </tr>\n",
       "  </thead>\n",
       "  <tbody>\n",
       "    <tr>\n",
       "      <th>0</th>\n",
       "      <td>“I'm still here, bitches. And I know everythin...</td>\n",
       "      <td>1053</td>\n",
       "      <td>[defiance]</td>\n",
       "    </tr>\n",
       "    <tr>\n",
       "      <th>1</th>\n",
       "      <td>“You know what they say about hope. It breeds ...</td>\n",
       "      <td>294</td>\n",
       "      <td>[spencer]</td>\n",
       "    </tr>\n",
       "    <tr>\n",
       "      <th>2</th>\n",
       "      <td>“I kind of have to go to the bathroom,\" Aria s...</td>\n",
       "      <td>201</td>\n",
       "      <td>[humour, lust]</td>\n",
       "    </tr>\n",
       "    <tr>\n",
       "      <th>3</th>\n",
       "      <td>“Only two can keep a secret if one of them is ...</td>\n",
       "      <td>196</td>\n",
       "      <td>[]</td>\n",
       "    </tr>\n",
       "    <tr>\n",
       "      <th>4</th>\n",
       "      <td>“When someone covets something they desire and...</td>\n",
       "      <td>148</td>\n",
       "      <td>[]</td>\n",
       "    </tr>\n",
       "  </tbody>\n",
       "</table>\n",
       "</div>"
      ],
      "text/plain": [
       "                                                text likes            tags\n",
       "0  “I'm still here, bitches. And I know everythin...  1053      [defiance]\n",
       "1  “You know what they say about hope. It breeds ...   294       [spencer]\n",
       "2  “I kind of have to go to the bathroom,\" Aria s...   201  [humour, lust]\n",
       "3  “Only two can keep a secret if one of them is ...   196              []\n",
       "4  “When someone covets something they desire and...   148              []"
      ]
     },
     "execution_count": 13,
     "metadata": {},
     "output_type": "execute_result"
    }
   ],
   "source": [
    "quote_df = pd.DataFrame(pd.Series(quote for quote_list in df['quotes'] for quote in quote_list)).rename(columns={0:'json'})\n",
    "quote_df['text'] = quote_df['json'].map(lambda x : x['text'])\n",
    "quote_df['likes'] = quote_df['json'].map(lambda x : x['likes'])\n",
    "quote_df['tags'] = quote_df['json'].map(lambda x : x['tags'])\n",
    "quote_df = quote_df.drop('json', axis=1)\n",
    "quote_df.head()"
   ]
  },
  {
   "cell_type": "code",
   "execution_count": 45,
   "id": "55e069c5-c173-4484-954f-a9a7d6a1fe80",
   "metadata": {},
   "outputs": [
    {
     "data": {
      "text/html": [
       "<div>\n",
       "<style scoped>\n",
       "    .dataframe tbody tr th:only-of-type {\n",
       "        vertical-align: middle;\n",
       "    }\n",
       "\n",
       "    .dataframe tbody tr th {\n",
       "        vertical-align: top;\n",
       "    }\n",
       "\n",
       "    .dataframe thead th {\n",
       "        text-align: right;\n",
       "    }\n",
       "</style>\n",
       "<table border=\"1\" class=\"dataframe\">\n",
       "  <thead>\n",
       "    <tr style=\"text-align: right;\">\n",
       "      <th></th>\n",
       "      <th>nURL</th>\n",
       "    </tr>\n",
       "    <tr>\n",
       "      <th>ISBN</th>\n",
       "      <th></th>\n",
       "    </tr>\n",
       "  </thead>\n",
       "  <tbody>\n",
       "    <tr>\n",
       "      <th>3.454834e+07</th>\n",
       "      <td>1</td>\n",
       "    </tr>\n",
       "    <tr>\n",
       "      <th>9.780805e+12</th>\n",
       "      <td>1</td>\n",
       "    </tr>\n",
       "    <tr>\n",
       "      <th>9.780807e+12</th>\n",
       "      <td>1</td>\n",
       "    </tr>\n",
       "    <tr>\n",
       "      <th>9.780806e+12</th>\n",
       "      <td>1</td>\n",
       "    </tr>\n",
       "    <tr>\n",
       "      <th>9.780805e+12</th>\n",
       "      <td>1</td>\n",
       "    </tr>\n",
       "    <tr>\n",
       "      <th>9.780805e+12</th>\n",
       "      <td>1</td>\n",
       "    </tr>\n",
       "    <tr>\n",
       "      <th>9.780805e+12</th>\n",
       "      <td>1</td>\n",
       "    </tr>\n",
       "    <tr>\n",
       "      <th>9.780805e+12</th>\n",
       "      <td>1</td>\n",
       "    </tr>\n",
       "    <tr>\n",
       "      <th>9.780805e+12</th>\n",
       "      <td>1</td>\n",
       "    </tr>\n",
       "    <tr>\n",
       "      <th>9.780805e+12</th>\n",
       "      <td>1</td>\n",
       "    </tr>\n",
       "  </tbody>\n",
       "</table>\n",
       "</div>"
      ],
      "text/plain": [
       "              nURL\n",
       "ISBN              \n",
       "3.454834e+07     1\n",
       "9.780805e+12     1\n",
       "9.780807e+12     1\n",
       "9.780806e+12     1\n",
       "9.780805e+12     1\n",
       "9.780805e+12     1\n",
       "9.780805e+12     1\n",
       "9.780805e+12     1\n",
       "9.780805e+12     1\n",
       "9.780805e+12     1"
      ]
     },
     "execution_count": 45,
     "metadata": {},
     "output_type": "execute_result"
    }
   ],
   "source": [
    "author_df = df.groupby(['ISBN']) \\\n",
    "                .count() \\\n",
    "                .drop(['author', 'title', 'rating', 'genres', 'pageCount', 'quotes'], axis=1) \\\n",
    "                .rename(columns={'url': 'nURL'}) \\\n",
    "                .sort_values(by='nURL', ascending=False)\n",
    "author_df.head(10)"
   ]
  },
  {
   "cell_type": "code",
   "execution_count": null,
   "id": "c1f5546d-1536-4f3d-8979-29a256cfde7e",
   "metadata": {},
   "outputs": [],
   "source": []
  }
 ],
 "metadata": {
  "kernelspec": {
   "display_name": "Python 3 (ipykernel)",
   "language": "python",
   "name": "python3"
  },
  "language_info": {
   "codemirror_mode": {
    "name": "ipython",
    "version": 3
   },
   "file_extension": ".py",
   "mimetype": "text/x-python",
   "name": "python",
   "nbconvert_exporter": "python",
   "pygments_lexer": "ipython3",
   "version": "3.10.7"
  }
 },
 "nbformat": 4,
 "nbformat_minor": 5
}
