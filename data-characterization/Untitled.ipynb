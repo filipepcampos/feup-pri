{
 "cells": [
  {
   "cell_type": "code",
   "execution_count": 5,
   "id": "d7483d79-8332-4020-896a-882f1e32f221",
   "metadata": {},
   "outputs": [],
   "source": [
    "import pandas as pd\n",
    "import matplotlib.pyplot as plt\n",
    "import seaborn as sns\n",
    "import numpy as np\n",
    "import json\n",
    "import os"
   ]
  },
  {
   "cell_type": "code",
   "execution_count": null,
   "id": "2a37b16f-a0fe-4015-9fb8-5fe80d44eabd",
   "metadata": {},
   "outputs": [],
   "source": [
    "df = pd.read_json('../processed/goodreads.json')"
   ]
  },
  {
   "cell_type": "code",
   "execution_count": null,
   "id": "e4450bf4-189e-4db5-b402-ff7683364761",
   "metadata": {},
   "outputs": [],
   "source": [
    "df.describe()"
   ]
  },
  {
   "cell_type": "code",
   "execution_count": null,
   "id": "2fddb82b-4232-45a1-b8ac-9bca9bc99a2f",
   "metadata": {},
   "outputs": [],
   "source": []
  }
 ],
 "metadata": {
  "kernelspec": {
   "display_name": "Python 3 (ipykernel)",
   "language": "python",
   "name": "python3"
  },
  "language_info": {
   "codemirror_mode": {
    "name": "ipython",
    "version": 3
   },
   "file_extension": ".py",
   "mimetype": "text/x-python",
   "name": "python",
   "nbconvert_exporter": "python",
   "pygments_lexer": "ipython3",
   "version": "3.10.7"
  }
 },
 "nbformat": 4,
 "nbformat_minor": 5
}
